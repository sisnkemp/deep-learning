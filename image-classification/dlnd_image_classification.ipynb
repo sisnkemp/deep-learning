{
 "cells": [
  {
   "cell_type": "markdown",
   "metadata": {
    "collapsed": true,
    "deletable": true,
    "editable": true
   },
   "source": [
    "# Image Classification\n",
    "In this project, you'll classify images from the [CIFAR-10 dataset](https://www.cs.toronto.edu/~kriz/cifar.html).  The dataset consists of airplanes, dogs, cats, and other objects. You'll preprocess the images, then train a convolutional neural network on all the samples. The images need to be normalized and the labels need to be one-hot encoded.  You'll get to apply what you learned and build a convolutional, max pooling, dropout, and fully connected layers.  At the end, you'll get to see your neural network's predictions on the sample images.\n",
    "## Get the Data\n",
    "Run the following cell to download the [CIFAR-10 dataset for python](https://www.cs.toronto.edu/~kriz/cifar-10-python.tar.gz)."
   ]
  },
  {
   "cell_type": "code",
   "execution_count": 2,
   "metadata": {
    "collapsed": false,
    "deletable": true,
    "editable": true
   },
   "outputs": [
    {
     "name": "stdout",
     "output_type": "stream",
     "text": [
      "All files found!\n"
     ]
    }
   ],
   "source": [
    "\"\"\"\n",
    "DON'T MODIFY ANYTHING IN THIS CELL THAT IS BELOW THIS LINE\n",
    "\"\"\"\n",
    "from urllib.request import urlretrieve\n",
    "from os.path import isfile, isdir\n",
    "from tqdm import tqdm\n",
    "import problem_unittests as tests\n",
    "import tarfile\n",
    "\n",
    "cifar10_dataset_folder_path = 'cifar-10-batches-py'\n",
    "\n",
    "# Use Floyd's cifar-10 dataset if present\n",
    "floyd_cifar10_location = '/input/cifar-10/python.tar.gz'\n",
    "if isfile(floyd_cifar10_location):\n",
    "    tar_gz_path = floyd_cifar10_location\n",
    "else:\n",
    "    tar_gz_path = 'cifar-10-python.tar.gz'\n",
    "\n",
    "class DLProgress(tqdm):\n",
    "    last_block = 0\n",
    "\n",
    "    def hook(self, block_num=1, block_size=1, total_size=None):\n",
    "        self.total = total_size\n",
    "        self.update((block_num - self.last_block) * block_size)\n",
    "        self.last_block = block_num\n",
    "\n",
    "if not isfile(tar_gz_path):\n",
    "    with DLProgress(unit='B', unit_scale=True, miniters=1, desc='CIFAR-10 Dataset') as pbar:\n",
    "        urlretrieve(\n",
    "            'https://www.cs.toronto.edu/~kriz/cifar-10-python.tar.gz',\n",
    "            tar_gz_path,\n",
    "            pbar.hook)\n",
    "\n",
    "if not isdir(cifar10_dataset_folder_path):\n",
    "    with tarfile.open(tar_gz_path) as tar:\n",
    "        tar.extractall()\n",
    "        tar.close()\n",
    "\n",
    "\n",
    "tests.test_folder_path(cifar10_dataset_folder_path)"
   ]
  },
  {
   "cell_type": "markdown",
   "metadata": {
    "deletable": true,
    "editable": true
   },
   "source": [
    "## Explore the Data\n",
    "The dataset is broken into batches to prevent your machine from running out of memory.  The CIFAR-10 dataset consists of 5 batches, named `data_batch_1`, `data_batch_2`, etc.. Each batch contains the labels and images that are one of the following:\n",
    "* airplane\n",
    "* automobile\n",
    "* bird\n",
    "* cat\n",
    "* deer\n",
    "* dog\n",
    "* frog\n",
    "* horse\n",
    "* ship\n",
    "* truck\n",
    "\n",
    "Understanding a dataset is part of making predictions on the data.  Play around with the code cell below by changing the `batch_id` and `sample_id`. The `batch_id` is the id for a batch (1-5). The `sample_id` is the id for a image and label pair in the batch.\n",
    "\n",
    "Ask yourself \"What are all possible labels?\", \"What is the range of values for the image data?\", \"Are the labels in order or random?\".  Answers to questions like these will help you preprocess the data and end up with better predictions."
   ]
  },
  {
   "cell_type": "code",
   "execution_count": 3,
   "metadata": {
    "collapsed": false,
    "deletable": true,
    "editable": true
   },
   "outputs": [
    {
     "name": "stdout",
     "output_type": "stream",
     "text": [
      "\n",
      "Stats of batch 1:\n",
      "Samples: 10000\n",
      "Label Counts: {0: 1005, 1: 974, 2: 1032, 3: 1016, 4: 999, 5: 937, 6: 1030, 7: 1001, 8: 1025, 9: 981}\n",
      "First 20 Labels: [6, 9, 9, 4, 1, 1, 2, 7, 8, 3, 4, 7, 7, 2, 9, 9, 9, 3, 2, 6]\n",
      "\n",
      "Example of Image 5:\n",
      "Image - Min Value: 0 Max Value: 252\n",
      "Image - Shape: (32, 32, 3)\n",
      "Label - Label Id: 1 Name: automobile\n"
     ]
    },
    {
     "data": {
      "image/png": "[encoded data removed]",
      "text/plain": [
       "<matplotlib.figure.Figure at 0x7f0bac50cb70>"
      ]
     },
     "metadata": {
      "image/png": {
       "height": 250,
       "width": 253
      }
     },
     "output_type": "display_data"
    }
   ],
   "source": [
    "%matplotlib inline\n",
    "%config InlineBackend.figure_format = 'retina'\n",
    "\n",
    "import helper\n",
    "import numpy as np\n",
    "\n",
    "# Explore the dataset\n",
    "batch_id = 1\n",
    "sample_id = 5\n",
    "helper.display_stats(cifar10_dataset_folder_path, batch_id, sample_id)"
   ]
  },
  {
   "cell_type": "markdown",
   "metadata": {
    "deletable": true,
    "editable": true
   },
   "source": [
    "## Implement Preprocess Functions\n",
    "### Normalize\n",
    "In the cell below, implement the `normalize` function to take in image data, `x`, and return it as a normalized Numpy array. The values should be in the range of 0 to 1, inclusive.  The return object should be the same shape as `x`."
   ]
  },
  {
   "cell_type": "code",
   "execution_count": 4,
   "metadata": {
    "collapsed": false,
    "deletable": true,
    "editable": true
   },
   "outputs": [
    {
     "name": "stdout",
     "output_type": "stream",
     "text": [
      "Tests Passed\n"
     ]
    }
   ],
   "source": [
    "def normalize(x):\n",
    "    \"\"\"\n",
    "    Normalize a list of sample image data in the range of 0 to 1\n",
    "    : x: List of image data.  The image shape is (32, 32, 3)\n",
    "    : return: Numpy array of normalize data\n",
    "    \"\"\"\n",
    "    return x / 255\n",
    "\n",
    "\n",
    "\"\"\"\n",
    "DON'T MODIFY ANYTHING IN THIS CELL THAT IS BELOW THIS LINE\n",
    "\"\"\"\n",
    "tests.test_normalize(normalize)"
   ]
  },
  {
   "cell_type": "markdown",
   "metadata": {
    "deletable": true,
    "editable": true
   },
   "source": [
    "### One-hot encode\n",
    "Just like the previous code cell, you'll be implementing a function for preprocessing.  This time, you'll implement the `one_hot_encode` function. The input, `x`, are a list of labels.  Implement the function to return the list of labels as One-Hot encoded Numpy array.  The possible values for labels are 0 to 9. The one-hot encoding function should return the same encoding for each value between each call to `one_hot_encode`.  Make sure to save the map of encodings outside the function.\n",
    "\n",
    "Hint: Don't reinvent the wheel."
   ]
  },
  {
   "cell_type": "code",
   "execution_count": 5,
   "metadata": {
    "collapsed": false,
    "deletable": true,
    "editable": true
   },
   "outputs": [
    {
     "name": "stdout",
     "output_type": "stream",
     "text": [
      "Tests Passed\n"
     ]
    }
   ],
   "source": [
    "def one_hot_encode(x):\n",
    "    \"\"\"\n",
    "    One hot encode a list of sample labels. Return a one-hot encoded vector for each label.\n",
    "    : x: List of sample Labels\n",
    "    : return: Numpy array of one-hot encoded labels\n",
    "    \"\"\"\n",
    "    rv = np.zeros((len(x), 10))\n",
    "    for i, val in enumerate(x):\n",
    "        rv[i][val] = 1\n",
    "    return rv\n",
    "\n",
    "\n",
    "\"\"\"\n",
    "DON'T MODIFY ANYTHING IN THIS CELL THAT IS BELOW THIS LINE\n",
    "\"\"\"\n",
    "tests.test_one_hot_encode(one_hot_encode)"
   ]
  },
  {
   "cell_type": "markdown",
   "metadata": {
    "deletable": true,
    "editable": true
   },
   "source": [
    "### Randomize Data\n",
    "As you saw from exploring the data above, the order of the samples are randomized.  It doesn't hurt to randomize it again, but you don't need to for this dataset."
   ]
  },
  {
   "cell_type": "markdown",
   "metadata": {
    "deletable": true,
    "editable": true
   },
   "source": [
    "## Preprocess all the data and save it\n",
    "Running the code cell below will preprocess all the CIFAR-10 data and save it to file. The code below also uses 10% of the training data for validation."
   ]
  },
  {
   "cell_type": "code",
   "execution_count": 6,
   "metadata": {
    "collapsed": false,
    "deletable": true,
    "editable": true
   },
   "outputs": [],
   "source": [
    "\"\"\"\n",
    "DON'T MODIFY ANYTHING IN THIS CELL\n",
    "\"\"\"\n",
    "# Preprocess Training, Validation, and Testing Data\n",
    "helper.preprocess_and_save_data(cifar10_dataset_folder_path, normalize, one_hot_encode)"
   ]
  },
  {
   "cell_type": "markdown",
   "metadata": {
    "deletable": true,
    "editable": true
   },
   "source": [
    "# Check Point\n",
    "This is your first checkpoint.  If you ever decide to come back to this notebook or have to restart the notebook, you can start from here.  The preprocessed data has been saved to disk."
   ]
  },
  {
   "cell_type": "code",
   "execution_count": 7,
   "metadata": {
    "collapsed": true,
    "deletable": true,
    "editable": true
   },
   "outputs": [],
   "source": [
    "\"\"\"\n",
    "DON'T MODIFY ANYTHING IN THIS CELL\n",
    "\"\"\"\n",
    "import pickle\n",
    "import problem_unittests as tests\n",
    "import helper\n",
    "\n",
    "# Load the Preprocessed Validation data\n",
    "valid_features, valid_labels = pickle.load(open('preprocess_validation.p', mode='rb'))"
   ]
  },
  {
   "cell_type": "markdown",
   "metadata": {
    "deletable": true,
    "editable": true
   },
   "source": [
    "## Build the network\n",
    "For the neural network, you'll build each layer into a function.  Most of the code you've seen has been outside of functions. To test your code more thoroughly, we require that you put each layer in a function.  This allows us to give you better feedback and test for simple mistakes using our unittests before you submit your project.\n",
    "\n",
    ">**Note:** If you're finding it hard to dedicate enough time for this course each week, we've provided a small shortcut to this part of the project. In the next couple of problems, you'll have the option to use classes from the [TensorFlow Layers](https://www.tensorflow.org/api_docs/python/tf/layers) or [TensorFlow Layers (contrib)](https://www.tensorflow.org/api_guides/python/contrib.layers) packages to build each layer, except the layers you build in the \"Convolutional and Max Pooling Layer\" section.  TF Layers is similar to Keras's and TFLearn's abstraction to layers, so it's easy to pickup.\n",
    "\n",
    ">However, if you would like to get the most out of this course, try to solve all the problems _without_ using anything from the TF Layers packages. You **can** still use classes from other packages that happen to have the same name as ones you find in TF Layers! For example, instead of using the TF Layers version of the `conv2d` class, [tf.layers.conv2d](https://www.tensorflow.org/api_docs/python/tf/layers/conv2d), you would want to use the TF Neural Network version of `conv2d`, [tf.nn.conv2d](https://www.tensorflow.org/api_docs/python/tf/nn/conv2d). \n",
    "\n",
    "Let's begin!\n",
    "\n",
    "### Input\n",
    "The neural network needs to read the image data, one-hot encoded labels, and dropout keep probability. Implement the following functions\n",
    "* Implement `neural_net_image_input`\n",
    " * Return a [TF Placeholder](https://www.tensorflow.org/api_docs/python/tf/placeholder)\n",
    " * Set the shape using `image_shape` with batch size set to `None`.\n",
    " * Name the TensorFlow placeholder \"x\" using the TensorFlow `name` parameter in the [TF Placeholder](https://www.tensorflow.org/api_docs/python/tf/placeholder).\n",
    "* Implement `neural_net_label_input`\n",
    " * Return a [TF Placeholder](https://www.tensorflow.org/api_docs/python/tf/placeholder)\n",
    " * Set the shape using `n_classes` with batch size set to `None`.\n",
    " * Name the TensorFlow placeholder \"y\" using the TensorFlow `name` parameter in the [TF Placeholder](https://www.tensorflow.org/api_docs/python/tf/placeholder).\n",
    "* Implement `neural_net_keep_prob_input`\n",
    " * Return a [TF Placeholder](https://www.tensorflow.org/api_docs/python/tf/placeholder) for dropout keep probability.\n",
    " * Name the TensorFlow placeholder \"keep_prob\" using the TensorFlow `name` parameter in the [TF Placeholder](https://www.tensorflow.org/api_docs/python/tf/placeholder).\n",
    "\n",
    "These names will be used at the end of the project to load your saved model.\n",
    "\n",
    "Note: `None` for shapes in TensorFlow allow for a dynamic size."
   ]
  },
  {
   "cell_type": "code",
   "execution_count": 8,
   "metadata": {
    "collapsed": false,
    "deletable": true,
    "editable": true
   },
   "outputs": [
    {
     "name": "stdout",
     "output_type": "stream",
     "text": [
      "Image Input Tests Passed.\n",
      "Label Input Tests Passed.\n",
      "Keep Prob Tests Passed.\n"
     ]
    }
   ],
   "source": [
    "import tensorflow as tf\n",
    "\n",
    "def neural_net_image_input(image_shape):\n",
    "    \"\"\"\n",
    "    Return a Tensor for a batch of image input\n",
    "    : image_shape: Shape of the images\n",
    "    : return: Tensor for image input.\n",
    "    \"\"\"\n",
    "    return tf.placeholder(tf.float32, (None,) + tuple(image_shape), \"x\")\n",
    "\n",
    "\n",
    "def neural_net_label_input(n_classes):\n",
    "    \"\"\"\n",
    "    Return a Tensor for a batch of label input\n",
    "    : n_classes: Number of classes\n",
    "    : return: Tensor for label input.\n",
    "    \"\"\"\n",
    "    return tf.placeholder(tf.float32, (None,) + (n_classes,), \"y\")\n",
    "\n",
    "\n",
    "def neural_net_keep_prob_input():\n",
    "    \"\"\"\n",
    "    Return a Tensor for keep probability\n",
    "    : return: Tensor for keep probability.\n",
    "    \"\"\"\n",
    "    return tf.placeholder(tf.float32, None, \"keep_prob\")\n",
    "\n",
    "\n",
    "\"\"\"\n",
    "DON'T MODIFY ANYTHING IN THIS CELL THAT IS BELOW THIS LINE\n",
    "\"\"\"\n",
    "tf.reset_default_graph()\n",
    "tests.test_nn_image_inputs(neural_net_image_input)\n",
    "tests.test_nn_label_inputs(neural_net_label_input)\n",
    "tests.test_nn_keep_prob_inputs(neural_net_keep_prob_input)"
   ]
  },
  {
   "cell_type": "markdown",
   "metadata": {
    "deletable": true,
    "editable": true
   },
   "source": [
    "### Convolution and Max Pooling Layer\n",
    "Convolution layers have a lot of success with images. For this code cell, you should implement the function `conv2d_maxpool` to apply convolution then max pooling:\n",
    "* Create the weight and bias using `conv_ksize`, `conv_num_outputs` and the shape of `x_tensor`.\n",
    "* Apply a convolution to `x_tensor` using weight and `conv_strides`.\n",
    " * We recommend you use same padding, but you're welcome to use any padding.\n",
    "* Add bias\n",
    "* Add a nonlinear activation to the convolution.\n",
    "* Apply Max Pooling using `pool_ksize` and `pool_strides`.\n",
    " * We recommend you use same padding, but you're welcome to use any padding.\n",
    "\n",
    "**Note:** You **can't** use [TensorFlow Layers](https://www.tensorflow.org/api_docs/python/tf/layers) or [TensorFlow Layers (contrib)](https://www.tensorflow.org/api_guides/python/contrib.layers) for **this** layer, but you can still use TensorFlow's [Neural Network](https://www.tensorflow.org/api_docs/python/tf/nn) package. You may still use the shortcut option for all the **other** layers."
   ]
  },
  {
   "cell_type": "code",
   "execution_count": 112,
   "metadata": {
    "collapsed": false,
    "deletable": true,
    "editable": true
   },
   "outputs": [
    {
     "name": "stdout",
     "output_type": "stream",
     "text": [
      "Tests Passed\n"
     ]
    }
   ],
   "source": [
    "def conv2d_maxpool(x_tensor, conv_num_outputs, conv_ksize, conv_strides, pool_ksize, pool_strides):\n",
    "    \"\"\"\n",
    "    Apply convolution then max pooling to x_tensor\n",
    "    :param x_tensor: TensorFlow Tensor\n",
    "    :param conv_num_outputs: Number of outputs for the convolutional layer\n",
    "    :param conv_ksize: kernal size 2-D Tuple for the convolutional layer\n",
    "    :param conv_strides: Stride 2-D Tuple for convolution\n",
    "    :param pool_ksize: kernal size 2-D Tuple for pool\n",
    "    :param pool_strides: Stride 2-D Tuple for pool\n",
    "    : return: A tensor that represents convolution and max pooling of x_tensor\n",
    "    \"\"\"\n",
    "    x_depth = x_tensor.get_shape().as_list()[-1]\n",
    "    W = tf.Variable(tf.truncated_normal([conv_ksize[0], conv_ksize[1], x_depth, conv_num_outputs], stddev=0.05))\n",
    "#    bias = tf.Variable(tf.random_normal([conv_num_outputs], stddev = 0.05))\n",
    "    bias = tf.Variable(tf.zeros([conv_num_outputs]))\n",
    "    net = tf.nn.conv2d(x_tensor, W, [1, conv_strides[0], conv_strides[1], 1], 'SAME')\n",
    "    net = tf.nn.bias_add(net, bias)\n",
    "    net = tf.nn.relu(net)\n",
    "    net = tf.nn.max_pool(net, [1, pool_ksize[0], pool_ksize[1], 1], [1, pool_strides[0], pool_strides[1], 1], 'SAME')\n",
    "    \n",
    "    return net\n",
    "\n",
    "\n",
    "\"\"\"\n",
    "DON'T MODIFY ANYTHING IN THIS CELL THAT IS BELOW THIS LINE\n",
    "\"\"\"\n",
    "tests.test_con_pool(conv2d_maxpool)"
   ]
  },
  {
   "cell_type": "markdown",
   "metadata": {
    "deletable": true,
    "editable": true
   },
   "source": [
    "### Flatten Layer\n",
    "Implement the `flatten` function to change the dimension of `x_tensor` from a 4-D tensor to a 2-D tensor.  The output should be the shape (*Batch Size*, *Flattened Image Size*). Shortcut option: you can use classes from the [TensorFlow Layers](https://www.tensorflow.org/api_docs/python/tf/layers) or [TensorFlow Layers (contrib)](https://www.tensorflow.org/api_guides/python/contrib.layers) packages for this layer. For more of a challenge, only use other TensorFlow packages."
   ]
  },
  {
   "cell_type": "code",
   "execution_count": 99,
   "metadata": {
    "collapsed": false,
    "deletable": true,
    "editable": true
   },
   "outputs": [
    {
     "name": "stdout",
     "output_type": "stream",
     "text": [
      "Tests Passed\n"
     ]
    }
   ],
   "source": [
    "def flatten(x_tensor):\n",
    "    \"\"\"\n",
    "    Flatten x_tensor to (Batch Size, Flattened Image Size)\n",
    "    : x_tensor: A tensor of size (Batch Size, ...), where ... are the image dimensions.\n",
    "    : return: A tensor of size (Batch Size, Flattened Image Size).\n",
    "    \"\"\"\n",
    "    batch_size = x_tensor.get_shape().as_list()[0]\n",
    "    flattened = 1\n",
    "    for i, val in enumerate(x_tensor.get_shape().as_list()):\n",
    "        if i != 0:\n",
    "            flattened *= val\n",
    "    if batch_size == None:\n",
    "        batch_size = -1\n",
    "    return tf.reshape(x_tensor, [batch_size, flattened])\n",
    "\n",
    "\n",
    "\"\"\"\n",
    "DON'T MODIFY ANYTHING IN THIS CELL THAT IS BELOW THIS LINE\n",
    "\"\"\"\n",
    "tests.test_flatten(flatten)"
   ]
  },
  {
   "cell_type": "markdown",
   "metadata": {
    "deletable": true,
    "editable": true
   },
   "source": [
    "# Fully-Connected Layer\n",
    "Implement the `fully_conn` function to apply a fully connected layer to `x_tensor` with the shape (*Batch Size*, *num_outputs*). Shortcut option: you can use classes from the [TensorFlow Layers](https://www.tensorflow.org/api_docs/python/tf/layers) or [TensorFlow Layers (contrib)](https://www.tensorflow.org/api_guides/python/contrib.layers) packages for this layer. For more of a challenge, only use other TensorFlow packages."
   ]
  },
  {
   "cell_type": "code",
   "execution_count": 113,
   "metadata": {
    "collapsed": false,
    "deletable": true,
    "editable": true
   },
   "outputs": [
    {
     "name": "stdout",
     "output_type": "stream",
     "text": [
      "Tests Passed\n"
     ]
    }
   ],
   "source": [
    "def fully_conn(x_tensor, num_outputs):\n",
    "    \"\"\"\n",
    "    Apply a fully connected layer to x_tensor using weight and bias\n",
    "    : x_tensor: A 2-D tensor where the first dimension is batch size.\n",
    "    : num_outputs: The number of output that the new tensor should be.\n",
    "    : return: A 2-D tensor where the second dimension is num_outputs.\n",
    "    \"\"\"\n",
    "    batch_size = x_tensor.get_shape().as_list()[0]\n",
    "    n = x_tensor.get_shape().as_list()[1]\n",
    "    W = tf.Variable(tf.truncated_normal([n, num_outputs], stddev = 0.05))\n",
    "    #bias = tf.Variable(tf.random_normal([num_outputs]))\n",
    "    bias = tf.Variable(tf.zeros([num_outputs]))\n",
    "    \n",
    "    net = tf.matmul(x_tensor, W)\n",
    "    net = tf.add(net, bias)\n",
    "    net = tf.nn.relu(net)\n",
    "    return net\n",
    "\n",
    "\n",
    "\"\"\"\n",
    "DON'T MODIFY ANYTHING IN THIS CELL THAT IS BELOW THIS LINE\n",
    "\"\"\"\n",
    "tests.test_fully_conn(fully_conn)"
   ]
  },
  {
   "cell_type": "markdown",
   "metadata": {
    "deletable": true,
    "editable": true
   },
   "source": [
    "### Output Layer\n",
    "Implement the `output` function to apply a fully connected layer to `x_tensor` with the shape (*Batch Size*, *num_outputs*). Shortcut option: you can use classes from the [TensorFlow Layers](https://www.tensorflow.org/api_docs/python/tf/layers) or [TensorFlow Layers (contrib)](https://www.tensorflow.org/api_guides/python/contrib.layers) packages for this layer. For more of a challenge, only use other TensorFlow packages.\n",
    "\n",
    "**Note:** Activation, softmax, or cross entropy should **not** be applied to this."
   ]
  },
  {
   "cell_type": "code",
   "execution_count": 114,
   "metadata": {
    "collapsed": false,
    "deletable": true,
    "editable": true
   },
   "outputs": [
    {
     "name": "stdout",
     "output_type": "stream",
     "text": [
      "Tests Passed\n"
     ]
    }
   ],
   "source": [
    "def output(x_tensor, num_outputs):\n",
    "    \"\"\"\n",
    "    Apply a output layer to x_tensor using weight and bias\n",
    "    : x_tensor: A 2-D tensor where the first dimension is batch size.\n",
    "    : num_outputs: The number of output that the new tensor should be.\n",
    "    : return: A 2-D tensor where the second dimension is num_outputs.\n",
    "    \"\"\"\n",
    "    batch_size = x_tensor.get_shape().as_list()[0]\n",
    "    n = x_tensor.get_shape().as_list()[1]\n",
    "    W = tf.Variable(tf.truncated_normal([n, num_outputs], stddev = 0.05))\n",
    "#    bias = tf.Variable(tf.random_normal([num_outputs]))\n",
    "    bias = tf.Variable(tf.zeros([num_outputs]))\n",
    "    \n",
    "    net = tf.matmul(x_tensor, W)\n",
    "    net = tf.add(net, bias)\n",
    "    return net\n",
    "\n",
    "\n",
    "\"\"\"\n",
    "DON'T MODIFY ANYTHING IN THIS CELL THAT IS BELOW THIS LINE\n",
    "\"\"\"\n",
    "tests.test_output(output)"
   ]
  },
  {
   "cell_type": "markdown",
   "metadata": {
    "deletable": true,
    "editable": true
   },
   "source": [
    "### Create Convolutional Model\n",
    "Implement the function `conv_net` to create a convolutional neural network model. The function takes in a batch of images, `x`, and outputs logits.  Use the layers you created above to create this model:\n",
    "\n",
    "* Apply 1, 2, or 3 Convolution and Max Pool layers\n",
    "* Apply a Flatten Layer\n",
    "* Apply 1, 2, or 3 Fully Connected Layers\n",
    "* Apply an Output Layer\n",
    "* Return the output\n",
    "* Apply [TensorFlow's Dropout](https://www.tensorflow.org/api_docs/python/tf/nn/dropout) to one or more layers in the model using `keep_prob`. "
   ]
  },
  {
   "cell_type": "code",
   "execution_count": 155,
   "metadata": {
    "collapsed": false,
    "deletable": true,
    "editable": true
   },
   "outputs": [
    {
     "name": "stdout",
     "output_type": "stream",
     "text": [
      "Neural Network Built!\n"
     ]
    }
   ],
   "source": [
    "def conv_net(x, keep_prob):\n",
    "    \"\"\"\n",
    "    Create a convolutional neural network model\n",
    "    : x: Placeholder tensor that holds image data.\n",
    "    : keep_prob: Placeholder tensor that hold dropout keep probability.\n",
    "    : return: Tensor that represents logits\n",
    "    \"\"\"\n",
    "    # TODO: Apply 1, 2, or 3 Convolution and Max Pool layers\n",
    "    #    Play around with different number of outputs, kernel size and stride\n",
    "    # Function Definition from Above:\n",
    "    #    conv2d_maxpool(x_tensor, conv_num_outputs, conv_ksize, conv_strides, pool_ksize, pool_strides)\n",
    "    conv = x\n",
    "    conv = conv2d_maxpool(conv, 32, (3, 3), (1, 1), (2, 2), (2, 2))\n",
    "#    conv = conv2d_maxpool(conv, 128, (3, 3), (1, 1), (2, 2), (2, 2))\n",
    "    conv = conv2d_maxpool(conv, 256, (3, 3), (1, 1), (2, 2), (2, 2))\n",
    "\n",
    "    # TODO: Apply a Flatten Layer\n",
    "    # Function Definition from Above:\n",
    "    #   flatten(x_tensor)\n",
    "    flat = flatten(conv)\n",
    "    \n",
    "\n",
    "    # TODO: Apply 1, 2, or 3 Fully Connected Layers\n",
    "    #    Play around with different number of outputs\n",
    "    # Function Definition from Above:\n",
    "    #   fully_conn(x_tensor, num_outputs)\n",
    "    full = flat\n",
    "    full = fully_conn(full, 1024)\n",
    "    full = tf.nn.dropout(full, keep_prob)\n",
    "    \n",
    "#    full = fully_conn(full, 1024)\n",
    "#    full = tf.nn.dropout(full, keep_prob)\n",
    "\n",
    "#    full = fully_conn(full, 1024)\n",
    "#    full = tf.nn.dropout(full, keep_prob)\n",
    "    \n",
    "    # TODO: Apply an Output Layer\n",
    "    #    Set this to the number of classes\n",
    "    # Function Definition from Above:\n",
    "    #   output(x_tensor, num_outputs)\n",
    "    out = output(full, 10)\n",
    "    \n",
    "    # TODO: return output\n",
    "    return out\n",
    "\n",
    "\n",
    "\"\"\"\n",
    "DON'T MODIFY ANYTHING IN THIS CELL THAT IS BELOW THIS LINE\n",
    "\"\"\"\n",
    "\n",
    "##############################\n",
    "## Build the Neural Network ##\n",
    "##############################\n",
    "\n",
    "# Remove previous weights, bias, inputs, etc..\n",
    "tf.reset_default_graph()\n",
    "\n",
    "# Inputs\n",
    "x = neural_net_image_input((32, 32, 3))\n",
    "y = neural_net_label_input(10)\n",
    "keep_prob = neural_net_keep_prob_input()\n",
    "\n",
    "# Model\n",
    "logits = conv_net(x, keep_prob)\n",
    "\n",
    "# Name logits Tensor, so that is can be loaded from disk after training\n",
    "logits = tf.identity(logits, name='logits')\n",
    "\n",
    "# Loss and Optimizer\n",
    "cost = tf.reduce_mean(tf.nn.softmax_cross_entropy_with_logits(logits=logits, labels=y))\n",
    "optimizer = tf.train.AdamOptimizer().minimize(cost)\n",
    "\n",
    "# Accuracy\n",
    "correct_pred = tf.equal(tf.argmax(logits, 1), tf.argmax(y, 1))\n",
    "accuracy = tf.reduce_mean(tf.cast(correct_pred, tf.float32), name='accuracy')\n",
    "\n",
    "tests.test_conv_net(conv_net)"
   ]
  },
  {
   "cell_type": "markdown",
   "metadata": {
    "deletable": true,
    "editable": true
   },
   "source": [
    "## Train the Neural Network\n",
    "### Single Optimization\n",
    "Implement the function `train_neural_network` to do a single optimization.  The optimization should use `optimizer` to optimize in `session` with a `feed_dict` of the following:\n",
    "* `x` for image input\n",
    "* `y` for labels\n",
    "* `keep_prob` for keep probability for dropout\n",
    "\n",
    "This function will be called for each batch, so `tf.global_variables_initializer()` has already been called.\n",
    "\n",
    "Note: Nothing needs to be returned. This function is only optimizing the neural network."
   ]
  },
  {
   "cell_type": "code",
   "execution_count": 51,
   "metadata": {
    "collapsed": false,
    "deletable": true,
    "editable": true
   },
   "outputs": [
    {
     "name": "stdout",
     "output_type": "stream",
     "text": [
      "Tests Passed\n"
     ]
    }
   ],
   "source": [
    "def train_neural_network(session, optimizer, keep_probability, feature_batch, label_batch):\n",
    "    \"\"\"\n",
    "    Optimize the session on a batch of images and labels\n",
    "    : session: Current TensorFlow session\n",
    "    : optimizer: TensorFlow optimizer function\n",
    "    : keep_probability: keep probability\n",
    "    : feature_batch: Batch of Numpy image data\n",
    "    : label_batch: Batch of Numpy label data\n",
    "    \"\"\"\n",
    "    # TODO: Implement Function\n",
    "    session.run(optimizer, feed_dict = { x: feature_batch, y: label_batch, keep_prob: keep_probability})\n",
    "\n",
    "\n",
    "\"\"\"\n",
    "DON'T MODIFY ANYTHING IN THIS CELL THAT IS BELOW THIS LINE\n",
    "\"\"\"\n",
    "tests.test_train_nn(train_neural_network)"
   ]
  },
  {
   "cell_type": "markdown",
   "metadata": {
    "deletable": true,
    "editable": true
   },
   "source": [
    "### Show Stats\n",
    "Implement the function `print_stats` to print loss and validation accuracy.  Use the global variables `valid_features` and `valid_labels` to calculate validation accuracy.  Use a keep probability of `1.0` to calculate the loss and validation accuracy."
   ]
  },
  {
   "cell_type": "code",
   "execution_count": 30,
   "metadata": {
    "collapsed": false,
    "deletable": true,
    "editable": true
   },
   "outputs": [],
   "source": [
    "def print_stats(session, feature_batch, label_batch, cost, accuracy):\n",
    "    \"\"\"\n",
    "    Print information about loss and validation accuracy\n",
    "    : session: Current TensorFlow session\n",
    "    : feature_batch: Batch of Numpy image data\n",
    "    : label_batch: Batch of Numpy label data\n",
    "    : cost: TensorFlow cost function\n",
    "    : accuracy: TensorFlow accuracy function\n",
    "    \"\"\"\n",
    "    costval = session.run(cost, feed_dict = {x: feature_batch, y: label_batch, keep_prob: 1.0})\n",
    "    accval = session.run(accuracy, feed_dict = {x: valid_features, y: valid_labels, keep_prob: 1.0})\n",
    "    print(\"loss: \" + str(costval) + \"; accuracy: \" + str(accval))"
   ]
  },
  {
   "cell_type": "markdown",
   "metadata": {
    "deletable": true,
    "editable": true
   },
   "source": [
    "### Hyperparameters\n",
    "Tune the following parameters:\n",
    "* Set `epochs` to the number of iterations until the network stops learning or start overfitting\n",
    "* Set `batch_size` to the highest number that your machine has memory for.  Most people set them to common sizes of memory:\n",
    " * 64\n",
    " * 128\n",
    " * 256\n",
    " * ...\n",
    "* Set `keep_probability` to the probability of keeping a node using dropout"
   ]
  },
  {
   "cell_type": "code",
   "execution_count": 125,
   "metadata": {
    "collapsed": true,
    "deletable": true,
    "editable": true
   },
   "outputs": [],
   "source": [
    "# TODO: Tune Parameters\n",
    "epochs = 40\n",
    "batch_size = 256\n",
    "keep_probability = 0.75"
   ]
  },
  {
   "cell_type": "markdown",
   "metadata": {
    "deletable": true,
    "editable": true
   },
   "source": [
    "### Train on a Single CIFAR-10 Batch\n",
    "Instead of training the neural network on all the CIFAR-10 batches of data, let's use a single batch. This should save time while you iterate on the model to get a better accuracy.  Once the final validation accuracy is 50% or greater, run the model on all the data in the next section."
   ]
  },
  {
   "cell_type": "code",
   "execution_count": 156,
   "metadata": {
    "collapsed": false,
    "deletable": true,
    "editable": true
   },
   "outputs": [
    {
     "name": "stdout",
     "output_type": "stream",
     "text": [
      "Checking the Training on a Single Batch...\n",
      "Epoch  1, CIFAR-10 Batch 1:  loss: 1.87732; accuracy: 0.403\n",
      "Epoch  2, CIFAR-10 Batch 1:  loss: 1.48756; accuracy: 0.4768\n",
      "Epoch  3, CIFAR-10 Batch 1:  loss: 1.1385; accuracy: 0.52\n",
      "Epoch  4, CIFAR-10 Batch 1:  loss: 0.898156; accuracy: 0.5386\n",
      "Epoch  5, CIFAR-10 Batch 1:  loss: 0.688628; accuracy: 0.5602\n",
      "Epoch  6, CIFAR-10 Batch 1:  loss: 0.533985; accuracy: 0.5584\n",
      "Epoch  7, CIFAR-10 Batch 1:  loss: 0.34948; accuracy: 0.5928\n",
      "Epoch  8, CIFAR-10 Batch 1:  loss: 0.279244; accuracy: 0.59\n",
      "Epoch  9, CIFAR-10 Batch 1:  loss: 0.169211; accuracy: 0.5984\n",
      "Epoch 10, CIFAR-10 Batch 1:  loss: 0.122705; accuracy: 0.6036\n",
      "Epoch 11, CIFAR-10 Batch 1:  loss: 0.0984542; accuracy: 0.597\n",
      "Epoch 12, CIFAR-10 Batch 1:  loss: 0.0775945; accuracy: 0.5754\n",
      "Epoch 13, CIFAR-10 Batch 1:  loss: 0.0585494; accuracy: 0.606\n",
      "Epoch 14, CIFAR-10 Batch 1:  loss: 0.0767005; accuracy: 0.5836\n",
      "Epoch 15, CIFAR-10 Batch 1:  loss: 0.0160895; accuracy: 0.6084\n",
      "Epoch 16, CIFAR-10 Batch 1:  loss: 0.0161479; accuracy: 0.5976\n",
      "Epoch 17, CIFAR-10 Batch 1:  loss: 0.0140999; accuracy: 0.5856\n",
      "Epoch 18, CIFAR-10 Batch 1:  loss: 0.0103435; accuracy: 0.5976\n",
      "Epoch 19, CIFAR-10 Batch 1:  loss: 0.0289435; accuracy: 0.5932\n",
      "Epoch 20, CIFAR-10 Batch 1:  loss: 0.0108978; accuracy: 0.6014\n",
      "Epoch 21, CIFAR-10 Batch 1:  loss: 0.0118198; accuracy: 0.602\n",
      "Epoch 22, CIFAR-10 Batch 1:  loss: 0.00538782; accuracy: 0.6122\n",
      "Epoch 23, CIFAR-10 Batch 1:  loss: 0.00346643; accuracy: 0.606\n",
      "Epoch 24, CIFAR-10 Batch 1:  loss: 0.0077218; accuracy: 0.5816\n",
      "Epoch 25, CIFAR-10 Batch 1:  loss: 0.00296706; accuracy: 0.6148\n",
      "Epoch 26, CIFAR-10 Batch 1:  loss: 0.0024947; accuracy: 0.613\n",
      "Epoch 27, CIFAR-10 Batch 1:  loss: 0.00181889; accuracy: 0.6116\n",
      "Epoch 28, CIFAR-10 Batch 1:  loss: 0.0040558; accuracy: 0.622\n",
      "Epoch 29, CIFAR-10 Batch 1:  loss: 0.00132065; accuracy: 0.6194\n",
      "Epoch 30, CIFAR-10 Batch 1:  loss: 0.00141868; accuracy: 0.6174\n",
      "Epoch 31, CIFAR-10 Batch 1:  loss: 0.0018639; accuracy: 0.6192\n",
      "Epoch 32, CIFAR-10 Batch 1:  loss: 0.00187841; accuracy: 0.624\n",
      "Epoch 33, CIFAR-10 Batch 1:  loss: 0.00150825; accuracy: 0.6192\n",
      "Epoch 34, CIFAR-10 Batch 1:  loss: 0.0010637; accuracy: 0.6208\n",
      "Epoch 35, CIFAR-10 Batch 1:  loss: 0.000874031; accuracy: 0.619\n",
      "Epoch 36, CIFAR-10 Batch 1:  loss: 0.000699011; accuracy: 0.6306\n",
      "Epoch 37, CIFAR-10 Batch 1:  loss: 0.000974154; accuracy: 0.6226\n",
      "Epoch 38, CIFAR-10 Batch 1:  loss: 0.000297006; accuracy: 0.6326\n",
      "Epoch 39, CIFAR-10 Batch 1:  loss: 7.75446e-05; accuracy: 0.6438\n",
      "Epoch 40, CIFAR-10 Batch 1:  loss: 0.000116776; accuracy: 0.6404\n"
     ]
    }
   ],
   "source": [
    "\"\"\"\n",
    "DON'T MODIFY ANYTHING IN THIS CELL\n",
    "\"\"\"\n",
    "print('Checking the Training on a Single Batch...')\n",
    "with tf.Session() as sess:\n",
    "    # Initializing the variables\n",
    "    sess.run(tf.global_variables_initializer())\n",
    "    \n",
    "    # Training cycle\n",
    "    for epoch in range(epochs):\n",
    "        batch_i = 1\n",
    "        for batch_features, batch_labels in helper.load_preprocess_training_batch(batch_i, batch_size):\n",
    "            train_neural_network(sess, optimizer, keep_probability, batch_features, batch_labels)\n",
    "        print('Epoch {:>2}, CIFAR-10 Batch {}:  '.format(epoch + 1, batch_i), end='')\n",
    "        print_stats(sess, batch_features, batch_labels, cost, accuracy)"
   ]
  },
  {
   "cell_type": "markdown",
   "metadata": {
    "deletable": true,
    "editable": true
   },
   "source": [
    "### Fully Train the Model\n",
    "Now that you got a good accuracy with a single CIFAR-10 batch, try it with all five batches."
   ]
  },
  {
   "cell_type": "code",
   "execution_count": 157,
   "metadata": {
    "collapsed": false,
    "deletable": true,
    "editable": true
   },
   "outputs": [
    {
     "name": "stdout",
     "output_type": "stream",
     "text": [
      "Training...\n",
      "Epoch  1, CIFAR-10 Batch 1:  loss: 2.0436; accuracy: 0.339\n",
      "Epoch  1, CIFAR-10 Batch 2:  loss: 1.53582; accuracy: 0.4238\n",
      "Epoch  1, CIFAR-10 Batch 3:  loss: 1.26651; accuracy: 0.483\n",
      "Epoch  1, CIFAR-10 Batch 4:  loss: 1.22861; accuracy: 0.5158\n",
      "Epoch  1, CIFAR-10 Batch 5:  loss: 1.24524; accuracy: 0.5602\n",
      "Epoch  2, CIFAR-10 Batch 1:  loss: 1.29815; accuracy: 0.5692\n",
      "Epoch  2, CIFAR-10 Batch 2:  loss: 0.915917; accuracy: 0.5874\n",
      "Epoch  2, CIFAR-10 Batch 3:  loss: 0.717844; accuracy: 0.581\n",
      "Epoch  2, CIFAR-10 Batch 4:  loss: 0.784214; accuracy: 0.6292\n",
      "Epoch  2, CIFAR-10 Batch 5:  loss: 0.699454; accuracy: 0.6316\n",
      "Epoch  3, CIFAR-10 Batch 1:  loss: 0.878875; accuracy: 0.6376\n",
      "Epoch  3, CIFAR-10 Batch 2:  loss: 0.510319; accuracy: 0.6468\n",
      "Epoch  3, CIFAR-10 Batch 3:  loss: 0.437499; accuracy: 0.6522\n",
      "Epoch  3, CIFAR-10 Batch 4:  loss: 0.502689; accuracy: 0.6568\n",
      "Epoch  3, CIFAR-10 Batch 5:  loss: 0.426759; accuracy: 0.6754\n",
      "Epoch  4, CIFAR-10 Batch 1:  loss: 0.521118; accuracy: 0.6666\n",
      "Epoch  4, CIFAR-10 Batch 2:  loss: 0.282699; accuracy: 0.666\n",
      "Epoch  4, CIFAR-10 Batch 3:  loss: 0.278131; accuracy: 0.6802\n",
      "Epoch  4, CIFAR-10 Batch 4:  loss: 0.36278; accuracy: 0.677\n",
      "Epoch  4, CIFAR-10 Batch 5:  loss: 0.277878; accuracy: 0.677\n",
      "Epoch  5, CIFAR-10 Batch 1:  loss: 0.274118; accuracy: 0.6982\n",
      "Epoch  5, CIFAR-10 Batch 2:  loss: 0.187447; accuracy: 0.662\n",
      "Epoch  5, CIFAR-10 Batch 3:  loss: 0.173481; accuracy: 0.7088\n",
      "Epoch  5, CIFAR-10 Batch 4:  loss: 0.25809; accuracy: 0.697\n",
      "Epoch  5, CIFAR-10 Batch 5:  loss: 0.154245; accuracy: 0.6924\n",
      "Epoch  6, CIFAR-10 Batch 1:  loss: 0.136164; accuracy: 0.6996\n",
      "Epoch  6, CIFAR-10 Batch 2:  loss: 0.0937266; accuracy: 0.6956\n",
      "Epoch  6, CIFAR-10 Batch 3:  loss: 0.0949661; accuracy: 0.7206\n",
      "Epoch  6, CIFAR-10 Batch 4:  loss: 0.129809; accuracy: 0.7154\n",
      "Epoch  6, CIFAR-10 Batch 5:  loss: 0.103088; accuracy: 0.702\n",
      "Epoch  7, CIFAR-10 Batch 1:  loss: 0.0921074; accuracy: 0.7098\n",
      "Epoch  7, CIFAR-10 Batch 2:  loss: 0.0751401; accuracy: 0.6948\n",
      "Epoch  7, CIFAR-10 Batch 3:  loss: 0.0649228; accuracy: 0.691\n",
      "Epoch  7, CIFAR-10 Batch 4:  loss: 0.090376; accuracy: 0.7028\n",
      "Epoch  7, CIFAR-10 Batch 5:  loss: 0.061764; accuracy: 0.723\n",
      "Epoch  8, CIFAR-10 Batch 1:  loss: 0.0633863; accuracy: 0.7004\n",
      "Epoch  8, CIFAR-10 Batch 2:  loss: 0.0442349; accuracy: 0.7166\n",
      "Epoch  8, CIFAR-10 Batch 3:  loss: 0.0394999; accuracy: 0.6964\n",
      "Epoch  8, CIFAR-10 Batch 4:  loss: 0.0475036; accuracy: 0.7084\n",
      "Epoch  8, CIFAR-10 Batch 5:  loss: 0.0425948; accuracy: 0.723\n",
      "Epoch  9, CIFAR-10 Batch 1:  loss: 0.0483141; accuracy: 0.7256\n",
      "Epoch  9, CIFAR-10 Batch 2:  loss: 0.0290156; accuracy: 0.7238\n",
      "Epoch  9, CIFAR-10 Batch 3:  loss: 0.0395427; accuracy: 0.6936\n",
      "Epoch  9, CIFAR-10 Batch 4:  loss: 0.0403903; accuracy: 0.7164\n",
      "Epoch  9, CIFAR-10 Batch 5:  loss: 0.0309627; accuracy: 0.736\n",
      "Epoch 10, CIFAR-10 Batch 1:  loss: 0.0331094; accuracy: 0.7212\n",
      "Epoch 10, CIFAR-10 Batch 2:  loss: 0.00900531; accuracy: 0.7264\n",
      "Epoch 10, CIFAR-10 Batch 3:  loss: 0.0209648; accuracy: 0.7154\n",
      "Epoch 10, CIFAR-10 Batch 4:  loss: 0.0189886; accuracy: 0.721\n",
      "Epoch 10, CIFAR-10 Batch 5:  loss: 0.0282437; accuracy: 0.7142\n",
      "Epoch 11, CIFAR-10 Batch 1:  loss: 0.0188707; accuracy: 0.7188\n",
      "Epoch 11, CIFAR-10 Batch 2:  loss: 0.0140341; accuracy: 0.7224\n",
      "Epoch 11, CIFAR-10 Batch 3:  loss: 0.0189452; accuracy: 0.7276\n",
      "Epoch 11, CIFAR-10 Batch 4:  loss: 0.0156145; accuracy: 0.7034\n",
      "Epoch 11, CIFAR-10 Batch 5:  loss: 0.0168621; accuracy: 0.7076\n",
      "Epoch 12, CIFAR-10 Batch 1:  loss: 0.0154477; accuracy: 0.7338\n",
      "Epoch 12, CIFAR-10 Batch 2:  loss: 0.00629536; accuracy: 0.7132\n",
      "Epoch 12, CIFAR-10 Batch 3:  loss: 0.0124133; accuracy: 0.729\n",
      "Epoch 12, CIFAR-10 Batch 4:  loss: 0.0192856; accuracy: 0.7062\n",
      "Epoch 12, CIFAR-10 Batch 5:  loss: 0.00569636; accuracy: 0.7334\n",
      "Epoch 13, CIFAR-10 Batch 1:  loss: 0.0083527; accuracy: 0.7344\n",
      "Epoch 13, CIFAR-10 Batch 2:  loss: 0.00918568; accuracy: 0.7034\n",
      "Epoch 13, CIFAR-10 Batch 3:  loss: 0.00903404; accuracy: 0.7282\n",
      "Epoch 13, CIFAR-10 Batch 4:  loss: 0.00726485; accuracy: 0.7288\n",
      "Epoch 13, CIFAR-10 Batch 5:  loss: 0.00635141; accuracy: 0.7286\n",
      "Epoch 14, CIFAR-10 Batch 1:  loss: 0.00850024; accuracy: 0.7088\n",
      "Epoch 14, CIFAR-10 Batch 2:  loss: 0.00393515; accuracy: 0.7288\n",
      "Epoch 14, CIFAR-10 Batch 3:  loss: 0.00238861; accuracy: 0.729\n",
      "Epoch 14, CIFAR-10 Batch 4:  loss: 0.00758323; accuracy: 0.7188\n",
      "Epoch 14, CIFAR-10 Batch 5:  loss: 0.00430116; accuracy: 0.722\n",
      "Epoch 15, CIFAR-10 Batch 1:  loss: 0.0232707; accuracy: 0.706\n",
      "Epoch 15, CIFAR-10 Batch 2:  loss: 0.00279101; accuracy: 0.7382\n",
      "Epoch 15, CIFAR-10 Batch 3:  loss: 0.00149281; accuracy: 0.7362\n",
      "Epoch 15, CIFAR-10 Batch 4:  loss: 0.00235954; accuracy: 0.7368\n",
      "Epoch 15, CIFAR-10 Batch 5:  loss: 0.00162216; accuracy: 0.7324\n",
      "Epoch 16, CIFAR-10 Batch 1:  loss: 0.00190694; accuracy: 0.7272\n",
      "Epoch 16, CIFAR-10 Batch 2:  loss: 0.00131509; accuracy: 0.735\n",
      "Epoch 16, CIFAR-10 Batch 3:  loss: 0.0018364; accuracy: 0.73\n",
      "Epoch 16, CIFAR-10 Batch 4:  loss: 0.00100978; accuracy: 0.7384\n",
      "Epoch 16, CIFAR-10 Batch 5:  loss: 0.00059676; accuracy: 0.7422\n",
      "Epoch 17, CIFAR-10 Batch 1:  loss: 0.00109532; accuracy: 0.7108\n",
      "Epoch 17, CIFAR-10 Batch 2:  loss: 0.000825888; accuracy: 0.7348\n",
      "Epoch 17, CIFAR-10 Batch 3:  loss: 0.00172359; accuracy: 0.7282\n",
      "Epoch 17, CIFAR-10 Batch 4:  loss: 0.00239891; accuracy: 0.7346\n",
      "Epoch 17, CIFAR-10 Batch 5:  loss: 0.000597603; accuracy: 0.736\n",
      "Epoch 18, CIFAR-10 Batch 1:  loss: 0.00117422; accuracy: 0.7222\n",
      "Epoch 18, CIFAR-10 Batch 2:  loss: 0.000824412; accuracy: 0.729\n",
      "Epoch 18, CIFAR-10 Batch 3:  loss: 0.00117287; accuracy: 0.7338\n",
      "Epoch 18, CIFAR-10 Batch 4:  loss: 0.000785878; accuracy: 0.7412\n",
      "Epoch 18, CIFAR-10 Batch 5:  loss: 0.000516406; accuracy: 0.7286\n",
      "Epoch 19, CIFAR-10 Batch 1:  loss: 0.00186399; accuracy: 0.7204\n",
      "Epoch 19, CIFAR-10 Batch 2:  loss: 0.000693667; accuracy: 0.7378\n",
      "Epoch 19, CIFAR-10 Batch 3:  loss: 0.000867444; accuracy: 0.737\n",
      "Epoch 19, CIFAR-10 Batch 4:  loss: 0.000800531; accuracy: 0.7422\n",
      "Epoch 19, CIFAR-10 Batch 5:  loss: 0.000775582; accuracy: 0.7282\n",
      "Epoch 20, CIFAR-10 Batch 1:  loss: 0.00341082; accuracy: 0.7182\n",
      "Epoch 20, CIFAR-10 Batch 2:  loss: 0.0036592; accuracy: 0.7376\n",
      "Epoch 20, CIFAR-10 Batch 3:  loss: 0.0010375; accuracy: 0.7448\n",
      "Epoch 20, CIFAR-10 Batch 4:  loss: 0.0010608; accuracy: 0.7322\n",
      "Epoch 20, CIFAR-10 Batch 5:  loss: 0.00072097; accuracy: 0.7366\n",
      "Epoch 21, CIFAR-10 Batch 1:  loss: 0.000987484; accuracy: 0.725\n",
      "Epoch 21, CIFAR-10 Batch 2:  loss: 0.000962673; accuracy: 0.7402\n",
      "Epoch 21, CIFAR-10 Batch 3:  loss: 0.00116248; accuracy: 0.7332\n",
      "Epoch 21, CIFAR-10 Batch 4:  loss: 0.000159719; accuracy: 0.7258\n",
      "Epoch 21, CIFAR-10 Batch 5:  loss: 0.000429818; accuracy: 0.735\n",
      "Epoch 22, CIFAR-10 Batch 1:  loss: 0.0013451; accuracy: 0.7378\n",
      "Epoch 22, CIFAR-10 Batch 2:  loss: 0.00110715; accuracy: 0.7456\n",
      "Epoch 22, CIFAR-10 Batch 3:  loss: 0.000406872; accuracy: 0.7448\n",
      "Epoch 22, CIFAR-10 Batch 4:  loss: 0.000763541; accuracy: 0.7398\n",
      "Epoch 22, CIFAR-10 Batch 5:  loss: 0.00061036; accuracy: 0.7418\n",
      "Epoch 23, CIFAR-10 Batch 1:  loss: 0.0016326; accuracy: 0.738\n",
      "Epoch 23, CIFAR-10 Batch 2:  loss: 0.00032115; accuracy: 0.7428\n",
      "Epoch 23, CIFAR-10 Batch 3:  loss: 0.00114142; accuracy: 0.7464\n",
      "Epoch 23, CIFAR-10 Batch 4:  loss: 0.000128061; accuracy: 0.7294\n",
      "Epoch 23, CIFAR-10 Batch 5:  loss: 0.00105774; accuracy: 0.7442\n",
      "Epoch 24, CIFAR-10 Batch 1:  loss: 0.00410807; accuracy: 0.7312\n",
      "Epoch 24, CIFAR-10 Batch 2:  loss: 0.000152295; accuracy: 0.7396\n",
      "Epoch 24, CIFAR-10 Batch 3:  loss: 0.000671648; accuracy: 0.733\n",
      "Epoch 24, CIFAR-10 Batch 4:  loss: 0.00013412; accuracy: 0.7332\n",
      "Epoch 24, CIFAR-10 Batch 5:  loss: 0.00040742; accuracy: 0.7426\n",
      "Epoch 25, CIFAR-10 Batch 1:  loss: 0.00100205; accuracy: 0.7364\n",
      "Epoch 25, CIFAR-10 Batch 2:  loss: 0.000326718; accuracy: 0.738\n",
      "Epoch 25, CIFAR-10 Batch 3:  loss: 0.000134023; accuracy: 0.7456\n",
      "Epoch 25, CIFAR-10 Batch 4:  loss: 0.00059701; accuracy: 0.7376\n",
      "Epoch 25, CIFAR-10 Batch 5:  loss: 0.000468904; accuracy: 0.7218\n",
      "Epoch 26, CIFAR-10 Batch 1:  loss: 0.000371291; accuracy: 0.7338\n",
      "Epoch 26, CIFAR-10 Batch 2:  loss: 0.000468122; accuracy: 0.7406\n",
      "Epoch 26, CIFAR-10 Batch 3:  loss: 0.000397405; accuracy: 0.7484\n",
      "Epoch 26, CIFAR-10 Batch 4:  loss: 0.000292564; accuracy: 0.7354\n",
      "Epoch 26, CIFAR-10 Batch 5:  loss: 0.000161669; accuracy: 0.7532\n",
      "Epoch 27, CIFAR-10 Batch 1:  loss: 0.000169183; accuracy: 0.7358\n",
      "Epoch 27, CIFAR-10 Batch 2:  loss: 0.000294301; accuracy: 0.7516\n",
      "Epoch 27, CIFAR-10 Batch 3:  loss: 9.53011e-05; accuracy: 0.7472\n",
      "Epoch 27, CIFAR-10 Batch 4:  loss: 0.00053844; accuracy: 0.7332\n",
      "Epoch 27, CIFAR-10 Batch 5:  loss: 0.000426297; accuracy: 0.741\n",
      "Epoch 28, CIFAR-10 Batch 1:  loss: 0.000142914; accuracy: 0.7372\n",
      "Epoch 28, CIFAR-10 Batch 2:  loss: 4.6805e-05; accuracy: 0.742\n",
      "Epoch 28, CIFAR-10 Batch 3:  loss: 7.94822e-05; accuracy: 0.7472\n",
      "Epoch 28, CIFAR-10 Batch 4:  loss: 0.000332103; accuracy: 0.7356\n",
      "Epoch 28, CIFAR-10 Batch 5:  loss: 0.000815117; accuracy: 0.7208\n",
      "Epoch 29, CIFAR-10 Batch 1:  loss: 0.000260057; accuracy: 0.728\n",
      "Epoch 29, CIFAR-10 Batch 2:  loss: 0.00034428; accuracy: 0.7434\n",
      "Epoch 29, CIFAR-10 Batch 3:  loss: 0.000287002; accuracy: 0.7468\n",
      "Epoch 29, CIFAR-10 Batch 4:  loss: 0.000362224; accuracy: 0.7386\n",
      "Epoch 29, CIFAR-10 Batch 5:  loss: 0.00042227; accuracy: 0.7406\n",
      "Epoch 30, CIFAR-10 Batch 1:  loss: 0.000316617; accuracy: 0.7186\n",
      "Epoch 30, CIFAR-10 Batch 2:  loss: 0.000144246; accuracy: 0.735\n",
      "Epoch 30, CIFAR-10 Batch 3:  loss: 0.000129516; accuracy: 0.7448\n",
      "Epoch 30, CIFAR-10 Batch 4:  loss: 0.000225368; accuracy: 0.738\n",
      "Epoch 30, CIFAR-10 Batch 5:  loss: 0.000383278; accuracy: 0.7388\n",
      "Epoch 31, CIFAR-10 Batch 1:  loss: 0.000262613; accuracy: 0.736\n",
      "Epoch 31, CIFAR-10 Batch 2:  loss: 5.21245e-05; accuracy: 0.7356\n",
      "Epoch 31, CIFAR-10 Batch 3:  loss: 0.000129042; accuracy: 0.7422\n",
      "Epoch 31, CIFAR-10 Batch 4:  loss: 0.00136273; accuracy: 0.7378\n",
      "Epoch 31, CIFAR-10 Batch 5:  loss: 0.000278954; accuracy: 0.7452\n",
      "Epoch 32, CIFAR-10 Batch 1:  loss: 0.000109838; accuracy: 0.7428\n",
      "Epoch 32, CIFAR-10 Batch 2:  loss: 6.62664e-05; accuracy: 0.7508\n",
      "Epoch 32, CIFAR-10 Batch 3:  loss: 3.08711e-05; accuracy: 0.745\n",
      "Epoch 32, CIFAR-10 Batch 4:  loss: 0.000266643; accuracy: 0.7314\n",
      "Epoch 32, CIFAR-10 Batch 5:  loss: 0.000127769; accuracy: 0.7366\n",
      "Epoch 33, CIFAR-10 Batch 1:  loss: 0.000129726; accuracy: 0.7364\n",
      "Epoch 33, CIFAR-10 Batch 2:  loss: 2.31357e-05; accuracy: 0.7484\n",
      "Epoch 33, CIFAR-10 Batch 3:  loss: 7.12116e-05; accuracy: 0.7522\n",
      "Epoch 33, CIFAR-10 Batch 4:  loss: 0.000183047; accuracy: 0.747\n",
      "Epoch 33, CIFAR-10 Batch 5:  loss: 0.000112587; accuracy: 0.744\n",
      "Epoch 34, CIFAR-10 Batch 1:  loss: 0.000126024; accuracy: 0.7424\n",
      "Epoch 34, CIFAR-10 Batch 2:  loss: 0.000201128; accuracy: 0.7364\n",
      "Epoch 34, CIFAR-10 Batch 3:  loss: 0.000238741; accuracy: 0.7418\n",
      "Epoch 34, CIFAR-10 Batch 4:  loss: 0.000229102; accuracy: 0.7354\n",
      "Epoch 34, CIFAR-10 Batch 5:  loss: 0.000261324; accuracy: 0.743\n",
      "Epoch 35, CIFAR-10 Batch 1:  loss: 0.000217004; accuracy: 0.7276\n",
      "Epoch 35, CIFAR-10 Batch 2:  loss: 0.000169036; accuracy: 0.743\n",
      "Epoch 35, CIFAR-10 Batch 3:  loss: 9.14591e-05; accuracy: 0.734\n",
      "Epoch 35, CIFAR-10 Batch 4:  loss: 0.000564572; accuracy: 0.7312\n",
      "Epoch 35, CIFAR-10 Batch 5:  loss: 0.000117991; accuracy: 0.7362\n",
      "Epoch 36, CIFAR-10 Batch 1:  loss: 0.000303642; accuracy: 0.735\n",
      "Epoch 36, CIFAR-10 Batch 2:  loss: 0.000352286; accuracy: 0.7368\n",
      "Epoch 36, CIFAR-10 Batch 3:  loss: 8.84594e-05; accuracy: 0.741\n",
      "Epoch 36, CIFAR-10 Batch 4:  loss: 0.0016891; accuracy: 0.7318\n",
      "Epoch 36, CIFAR-10 Batch 5:  loss: 0.000247698; accuracy: 0.7378\n",
      "Epoch 37, CIFAR-10 Batch 1:  loss: 0.000176461; accuracy: 0.7358\n",
      "Epoch 37, CIFAR-10 Batch 2:  loss: 7.81177e-05; accuracy: 0.7368\n",
      "Epoch 37, CIFAR-10 Batch 3:  loss: 7.74293e-05; accuracy: 0.7334\n",
      "Epoch 37, CIFAR-10 Batch 4:  loss: 0.000232496; accuracy: 0.7408\n",
      "Epoch 37, CIFAR-10 Batch 5:  loss: 7.20589e-05; accuracy: 0.735\n",
      "Epoch 38, CIFAR-10 Batch 1:  loss: 0.00087373; accuracy: 0.7396\n",
      "Epoch 38, CIFAR-10 Batch 2:  loss: 0.000126676; accuracy: 0.738\n",
      "Epoch 38, CIFAR-10 Batch 3:  loss: 0.000147131; accuracy: 0.7434\n",
      "Epoch 38, CIFAR-10 Batch 4:  loss: 3.39563e-05; accuracy: 0.7348\n",
      "Epoch 38, CIFAR-10 Batch 5:  loss: 3.33279e-05; accuracy: 0.7356\n",
      "Epoch 39, CIFAR-10 Batch 1:  loss: 0.000211033; accuracy: 0.7444\n",
      "Epoch 39, CIFAR-10 Batch 2:  loss: 0.000205659; accuracy: 0.751\n",
      "Epoch 39, CIFAR-10 Batch 3:  loss: 2.26209e-05; accuracy: 0.7436\n",
      "Epoch 39, CIFAR-10 Batch 4:  loss: 4.55702e-05; accuracy: 0.7386\n",
      "Epoch 39, CIFAR-10 Batch 5:  loss: 8.41176e-05; accuracy: 0.7338\n",
      "Epoch 40, CIFAR-10 Batch 1:  loss: 0.000126557; accuracy: 0.7348\n",
      "Epoch 40, CIFAR-10 Batch 2:  loss: 1.48911e-05; accuracy: 0.7412\n",
      "Epoch 40, CIFAR-10 Batch 3:  loss: 1.47305e-05; accuracy: 0.7396\n",
      "Epoch 40, CIFAR-10 Batch 4:  loss: 6.19964e-05; accuracy: 0.735\n",
      "Epoch 40, CIFAR-10 Batch 5:  loss: 0.000201662; accuracy: 0.7358\n"
     ]
    }
   ],
   "source": [
    "\"\"\"\n",
    "DON'T MODIFY ANYTHING IN THIS CELL\n",
    "\"\"\"\n",
    "save_model_path = './image_classification'\n",
    "\n",
    "print('Training...')\n",
    "with tf.Session() as sess:\n",
    "    # Initializing the variables\n",
    "    sess.run(tf.global_variables_initializer())\n",
    "    \n",
    "    # Training cycle\n",
    "    for epoch in range(epochs):\n",
    "        # Loop over all batches\n",
    "        n_batches = 5\n",
    "        for batch_i in range(1, n_batches + 1):\n",
    "            for batch_features, batch_labels in helper.load_preprocess_training_batch(batch_i, batch_size):\n",
    "                train_neural_network(sess, optimizer, keep_probability, batch_features, batch_labels)\n",
    "            print('Epoch {:>2}, CIFAR-10 Batch {}:  '.format(epoch + 1, batch_i), end='')\n",
    "            print_stats(sess, batch_features, batch_labels, cost, accuracy)\n",
    "            \n",
    "    # Save Model\n",
    "    saver = tf.train.Saver()\n",
    "    save_path = saver.save(sess, save_model_path)"
   ]
  },
  {
   "cell_type": "markdown",
   "metadata": {
    "deletable": true,
    "editable": true
   },
   "source": [
    "# Checkpoint\n",
    "The model has been saved to disk.\n",
    "## Test Model\n",
    "Test your model against the test dataset.  This will be your final accuracy. You should have an accuracy greater than 50%. If you don't, keep tweaking the model architecture and parameters."
   ]
  },
  {
   "cell_type": "code",
   "execution_count": 158,
   "metadata": {
    "collapsed": false,
    "deletable": true,
    "editable": true
   },
   "outputs": [
    {
     "name": "stdout",
     "output_type": "stream",
     "text": [
      "Testing Accuracy: 0.7267578125\n",
      "\n"
     ]
    },
    {
     "data": {
      "image/png": "[encoded data removed]",
      "text/plain": [
       "<matplotlib.figure.Figure at 0x7f0bff314a20>"
      ]
     },
     "metadata": {
      "image/png": {
       "height": 319,
       "width": 349
      }
     },
     "output_type": "display_data"
    }
   ],
   "source": [
    "\"\"\"\n",
    "DON'T MODIFY ANYTHING IN THIS CELL\n",
    "\"\"\"\n",
    "%matplotlib inline\n",
    "%config InlineBackend.figure_format = 'retina'\n",
    "\n",
    "import tensorflow as tf\n",
    "import pickle\n",
    "import helper\n",
    "import random\n",
    "\n",
    "# Set batch size if not already set\n",
    "try:\n",
    "    if batch_size:\n",
    "        pass\n",
    "except NameError:\n",
    "    batch_size = 64\n",
    "\n",
    "save_model_path = './image_classification'\n",
    "n_samples = 4\n",
    "top_n_predictions = 3\n",
    "\n",
    "def test_model():\n",
    "    \"\"\"\n",
    "    Test the saved model against the test dataset\n",
    "    \"\"\"\n",
    "\n",
    "    test_features, test_labels = pickle.load(open('preprocess_test.p', mode='rb'))\n",
    "    loaded_graph = tf.Graph()\n",
    "\n",
    "    with tf.Session(graph=loaded_graph) as sess:\n",
    "        # Load model\n",
    "        loader = tf.train.import_meta_graph(save_model_path + '.meta')\n",
    "        loader.restore(sess, save_model_path)\n",
    "\n",
    "        # Get Tensors from loaded model\n",
    "        loaded_x = loaded_graph.get_tensor_by_name('x:0')\n",
    "        loaded_y = loaded_graph.get_tensor_by_name('y:0')\n",
    "        loaded_keep_prob = loaded_graph.get_tensor_by_name('keep_prob:0')\n",
    "        loaded_logits = loaded_graph.get_tensor_by_name('logits:0')\n",
    "        loaded_acc = loaded_graph.get_tensor_by_name('accuracy:0')\n",
    "        \n",
    "        # Get accuracy in batches for memory limitations\n",
    "        test_batch_acc_total = 0\n",
    "        test_batch_count = 0\n",
    "        \n",
    "        for test_feature_batch, test_label_batch in helper.batch_features_labels(test_features, test_labels, batch_size):\n",
    "            test_batch_acc_total += sess.run(\n",
    "                loaded_acc,\n",
    "                feed_dict={loaded_x: test_feature_batch, loaded_y: test_label_batch, loaded_keep_prob: 1.0})\n",
    "            test_batch_count += 1\n",
    "\n",
    "        print('Testing Accuracy: {}\\n'.format(test_batch_acc_total/test_batch_count))\n",
    "\n",
    "        # Print Random Samples\n",
    "        random_test_features, random_test_labels = tuple(zip(*random.sample(list(zip(test_features, test_labels)), n_samples)))\n",
    "        random_test_predictions = sess.run(\n",
    "            tf.nn.top_k(tf.nn.softmax(loaded_logits), top_n_predictions),\n",
    "            feed_dict={loaded_x: random_test_features, loaded_y: random_test_labels, loaded_keep_prob: 1.0})\n",
    "        helper.display_image_predictions(random_test_features, random_test_labels, random_test_predictions)\n",
    "\n",
    "\n",
    "test_model()"
   ]
  },
  {
   "cell_type": "markdown",
   "metadata": {
    "deletable": true,
    "editable": true
   },
   "source": [
    "## Why 50-80% Accuracy?\n",
    "You might be wondering why you can't get an accuracy any higher. First things first, 50% isn't bad for a simple CNN.  Pure guessing would get you 10% accuracy. However, you might notice people are getting scores [well above 80%](http://rodrigob.github.io/are_we_there_yet/build/classification_datasets_results.html#43494641522d3130).  That's because we haven't taught you all there is to know about neural networks. We still need to cover a few more techniques.\n",
    "## Submitting This Project\n",
    "When submitting this project, make sure to run all the cells before saving the notebook.  Save the notebook file as \"dlnd_image_classification.ipynb\" and save it as a HTML file under \"File\" -> \"Download as\".  Include the \"helper.py\" and \"problem_unittests.py\" files in your submission."
   ]
  }
 ],
 "metadata": {
  "kernelspec": {
   "display_name": "Python 3",
   "language": "python",
   "name": "python3"
  },
  "language_info": {
   "codemirror_mode": {
    "name": "ipython",
    "version": 3
   },
   "file_extension": ".py",
   "mimetype": "text/x-python",
   "name": "python",
   "nbconvert_exporter": "python",
   "pygments_lexer": "ipython3",
   "version": "3.5.3"
  }
 },
 "nbformat": 4,
 "nbformat_minor": 0
}
